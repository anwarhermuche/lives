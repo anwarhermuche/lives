{
 "cells": [
  {
   "cell_type": "code",
   "execution_count": 70,
   "id": "b49ed876",
   "metadata": {},
   "outputs": [],
   "source": [
    "import pandas as pd\n",
    "import numpy as np\n",
    "import matplotlib.pyplot as plt\n",
    "import seaborn as sns\n",
    "from os import chdir\n",
    "from warnings import filterwarnings\n",
    "\n",
    "from sklearn.model_selection import train_test_split, StratifiedKFold\n",
    "from sklearn.pipeline import Pipeline\n",
    "from sklearn.impute import SimpleImputer\n",
    "from category_encoders import TargetEncoder\n",
    "# from sklearn.preprocessing import StandardScaler (não vou importar porque vamos utilizar um tree-based model)\n",
    "\n",
    "from sklearn.metrics import f1_score, roc_auc_score\n",
    "\n",
    "from sklearn.ensemble import RandomForestClassifier\n",
    "\n",
    "chdir(r'C:\\Users\\Anwar\\Desktop\\VSCode\\ML Olympiad\\Dados')\n",
    "filterwarnings('ignore')"
   ]
  },
  {
   "cell_type": "code",
   "execution_count": 2,
   "id": "9610af41",
   "metadata": {},
   "outputs": [],
   "source": [
    "df = pd.read_csv('train.csv')\n",
    "test = pd.read_csv('test.csv')"
   ]
  },
  {
   "cell_type": "code",
   "execution_count": 3,
   "id": "6ec04530",
   "metadata": {},
   "outputs": [
    {
     "data": {
      "text/html": [
       "<div>\n",
       "<style scoped>\n",
       "    .dataframe tbody tr th:only-of-type {\n",
       "        vertical-align: middle;\n",
       "    }\n",
       "\n",
       "    .dataframe tbody tr th {\n",
       "        vertical-align: top;\n",
       "    }\n",
       "\n",
       "    .dataframe thead th {\n",
       "        text-align: right;\n",
       "    }\n",
       "</style>\n",
       "<table border=\"1\" class=\"dataframe\">\n",
       "  <thead>\n",
       "    <tr style=\"text-align: right;\">\n",
       "      <th></th>\n",
       "      <th>id_do_caso</th>\n",
       "      <th>continente</th>\n",
       "      <th>educacao_do_empregado</th>\n",
       "      <th>tem_experiencia_de_trabalho</th>\n",
       "      <th>requer_treinamento_de_trabalho</th>\n",
       "      <th>num_de_empregados</th>\n",
       "      <th>ano_de_estabelecimento</th>\n",
       "      <th>regiao_de_emprego</th>\n",
       "      <th>salario_prevalecente</th>\n",
       "      <th>unidade_de_salario</th>\n",
       "      <th>posicao_em_tempo_integral</th>\n",
       "      <th>status_do_caso</th>\n",
       "    </tr>\n",
       "  </thead>\n",
       "  <tbody>\n",
       "    <tr>\n",
       "      <th>0</th>\n",
       "      <td>EZYV10567</td>\n",
       "      <td>Europa</td>\n",
       "      <td>Ensino Médio</td>\n",
       "      <td>N</td>\n",
       "      <td>S</td>\n",
       "      <td>2087</td>\n",
       "      <td>1855</td>\n",
       "      <td>Sul</td>\n",
       "      <td>69711.24</td>\n",
       "      <td>Ano</td>\n",
       "      <td>S</td>\n",
       "      <td>Negado</td>\n",
       "    </tr>\n",
       "    <tr>\n",
       "      <th>1</th>\n",
       "      <td>EZYV5505</td>\n",
       "      <td>Ásia</td>\n",
       "      <td>Mestrado</td>\n",
       "      <td>S</td>\n",
       "      <td>N</td>\n",
       "      <td>5991</td>\n",
       "      <td>2003</td>\n",
       "      <td>Meio-Oeste</td>\n",
       "      <td>52931.38</td>\n",
       "      <td>Ano</td>\n",
       "      <td>S</td>\n",
       "      <td>Aprovado</td>\n",
       "    </tr>\n",
       "    <tr>\n",
       "      <th>2</th>\n",
       "      <td>EZYV5207</td>\n",
       "      <td>Ásia</td>\n",
       "      <td>Ensino Médio</td>\n",
       "      <td>N</td>\n",
       "      <td>N</td>\n",
       "      <td>1426</td>\n",
       "      <td>2000</td>\n",
       "      <td>Ilha</td>\n",
       "      <td>110830.21</td>\n",
       "      <td>Ano</td>\n",
       "      <td>S</td>\n",
       "      <td>Negado</td>\n",
       "    </tr>\n",
       "    <tr>\n",
       "      <th>3</th>\n",
       "      <td>EZYV7545</td>\n",
       "      <td>Ásia</td>\n",
       "      <td>Ensino Médio</td>\n",
       "      <td>N</td>\n",
       "      <td>N</td>\n",
       "      <td>3846</td>\n",
       "      <td>1992</td>\n",
       "      <td>Meio-Oeste</td>\n",
       "      <td>91884.68</td>\n",
       "      <td>Semana</td>\n",
       "      <td>S</td>\n",
       "      <td>Negado</td>\n",
       "    </tr>\n",
       "    <tr>\n",
       "      <th>4</th>\n",
       "      <td>EZYV16071</td>\n",
       "      <td>Ásia</td>\n",
       "      <td>Ensino Superior</td>\n",
       "      <td>S</td>\n",
       "      <td>N</td>\n",
       "      <td>3957</td>\n",
       "      <td>1949</td>\n",
       "      <td>Nordeste</td>\n",
       "      <td>138155.24</td>\n",
       "      <td>Ano</td>\n",
       "      <td>S</td>\n",
       "      <td>Aprovado</td>\n",
       "    </tr>\n",
       "  </tbody>\n",
       "</table>\n",
       "</div>"
      ],
      "text/plain": [
       "  id_do_caso continente educacao_do_empregado tem_experiencia_de_trabalho  \\\n",
       "0  EZYV10567     Europa          Ensino Médio                           N   \n",
       "1   EZYV5505       Ásia              Mestrado                           S   \n",
       "2   EZYV5207       Ásia          Ensino Médio                           N   \n",
       "3   EZYV7545       Ásia          Ensino Médio                           N   \n",
       "4  EZYV16071       Ásia       Ensino Superior                           S   \n",
       "\n",
       "  requer_treinamento_de_trabalho  num_de_empregados  ano_de_estabelecimento  \\\n",
       "0                              S               2087                    1855   \n",
       "1                              N               5991                    2003   \n",
       "2                              N               1426                    2000   \n",
       "3                              N               3846                    1992   \n",
       "4                              N               3957                    1949   \n",
       "\n",
       "  regiao_de_emprego  salario_prevalecente unidade_de_salario  \\\n",
       "0               Sul              69711.24                Ano   \n",
       "1        Meio-Oeste              52931.38                Ano   \n",
       "2              Ilha             110830.21                Ano   \n",
       "3        Meio-Oeste              91884.68             Semana   \n",
       "4          Nordeste             138155.24                Ano   \n",
       "\n",
       "  posicao_em_tempo_integral status_do_caso  \n",
       "0                         S         Negado  \n",
       "1                         S       Aprovado  \n",
       "2                         S         Negado  \n",
       "3                         S         Negado  \n",
       "4                         S       Aprovado  "
      ]
     },
     "execution_count": 3,
     "metadata": {},
     "output_type": "execute_result"
    }
   ],
   "source": [
    "df.head()"
   ]
  },
  {
   "cell_type": "code",
   "execution_count": 4,
   "id": "1f82e3f9",
   "metadata": {},
   "outputs": [
    {
     "name": "stdout",
     "output_type": "stream",
     "text": [
      "<class 'pandas.core.frame.DataFrame'>\n",
      "RangeIndex: 17836 entries, 0 to 17835\n",
      "Data columns (total 12 columns):\n",
      " #   Column                          Non-Null Count  Dtype  \n",
      "---  ------                          --------------  -----  \n",
      " 0   id_do_caso                      17836 non-null  object \n",
      " 1   continente                      17836 non-null  object \n",
      " 2   educacao_do_empregado           17836 non-null  object \n",
      " 3   tem_experiencia_de_trabalho     17836 non-null  object \n",
      " 4   requer_treinamento_de_trabalho  17836 non-null  object \n",
      " 5   num_de_empregados               17836 non-null  int64  \n",
      " 6   ano_de_estabelecimento          17836 non-null  int64  \n",
      " 7   regiao_de_emprego               17836 non-null  object \n",
      " 8   salario_prevalecente            17836 non-null  float64\n",
      " 9   unidade_de_salario              17836 non-null  object \n",
      " 10  posicao_em_tempo_integral       17836 non-null  object \n",
      " 11  status_do_caso                  17836 non-null  object \n",
      "dtypes: float64(1), int64(2), object(9)\n",
      "memory usage: 1.6+ MB\n"
     ]
    }
   ],
   "source": [
    "df.info()"
   ]
  },
  {
   "cell_type": "code",
   "execution_count": 5,
   "id": "4902f089",
   "metadata": {},
   "outputs": [
    {
     "data": {
      "text/plain": [
       "(17836, 12)"
      ]
     },
     "execution_count": 5,
     "metadata": {},
     "output_type": "execute_result"
    }
   ],
   "source": [
    "df.shape"
   ]
  },
  {
   "cell_type": "code",
   "execution_count": 10,
   "id": "a1025692",
   "metadata": {},
   "outputs": [],
   "source": [
    "df.tem_experiencia_de_trabalho = df.tem_experiencia_de_trabalho.apply(lambda x: 1 if x == 'S' else 0)\n",
    "df.requer_treinamento_de_trabalho = df.requer_treinamento_de_trabalho.apply(lambda x: 1 if x == 'S' else 0)\n",
    "df.posicao_em_tempo_integral = df.posicao_em_tempo_integral.apply(lambda x: 1 if x == 'S' else 0)\n",
    "df.status_do_caso = df.status_do_caso.apply(lambda x: 1 if x == 'Aprovado' else 0)"
   ]
  },
  {
   "cell_type": "code",
   "execution_count": 11,
   "id": "40ad580a",
   "metadata": {},
   "outputs": [
    {
     "data": {
      "text/html": [
       "<div>\n",
       "<style scoped>\n",
       "    .dataframe tbody tr th:only-of-type {\n",
       "        vertical-align: middle;\n",
       "    }\n",
       "\n",
       "    .dataframe tbody tr th {\n",
       "        vertical-align: top;\n",
       "    }\n",
       "\n",
       "    .dataframe thead th {\n",
       "        text-align: right;\n",
       "    }\n",
       "</style>\n",
       "<table border=\"1\" class=\"dataframe\">\n",
       "  <thead>\n",
       "    <tr style=\"text-align: right;\">\n",
       "      <th></th>\n",
       "      <th>id_do_caso</th>\n",
       "      <th>continente</th>\n",
       "      <th>educacao_do_empregado</th>\n",
       "      <th>tem_experiencia_de_trabalho</th>\n",
       "      <th>requer_treinamento_de_trabalho</th>\n",
       "      <th>num_de_empregados</th>\n",
       "      <th>ano_de_estabelecimento</th>\n",
       "      <th>regiao_de_emprego</th>\n",
       "      <th>salario_prevalecente</th>\n",
       "      <th>unidade_de_salario</th>\n",
       "      <th>posicao_em_tempo_integral</th>\n",
       "      <th>status_do_caso</th>\n",
       "    </tr>\n",
       "  </thead>\n",
       "  <tbody>\n",
       "    <tr>\n",
       "      <th>0</th>\n",
       "      <td>EZYV10567</td>\n",
       "      <td>Europa</td>\n",
       "      <td>Ensino Médio</td>\n",
       "      <td>0</td>\n",
       "      <td>1</td>\n",
       "      <td>2087</td>\n",
       "      <td>1855</td>\n",
       "      <td>Sul</td>\n",
       "      <td>69711.24</td>\n",
       "      <td>Ano</td>\n",
       "      <td>1</td>\n",
       "      <td>0</td>\n",
       "    </tr>\n",
       "    <tr>\n",
       "      <th>1</th>\n",
       "      <td>EZYV5505</td>\n",
       "      <td>Ásia</td>\n",
       "      <td>Mestrado</td>\n",
       "      <td>1</td>\n",
       "      <td>0</td>\n",
       "      <td>5991</td>\n",
       "      <td>2003</td>\n",
       "      <td>Meio-Oeste</td>\n",
       "      <td>52931.38</td>\n",
       "      <td>Ano</td>\n",
       "      <td>1</td>\n",
       "      <td>1</td>\n",
       "    </tr>\n",
       "    <tr>\n",
       "      <th>2</th>\n",
       "      <td>EZYV5207</td>\n",
       "      <td>Ásia</td>\n",
       "      <td>Ensino Médio</td>\n",
       "      <td>0</td>\n",
       "      <td>0</td>\n",
       "      <td>1426</td>\n",
       "      <td>2000</td>\n",
       "      <td>Ilha</td>\n",
       "      <td>110830.21</td>\n",
       "      <td>Ano</td>\n",
       "      <td>1</td>\n",
       "      <td>0</td>\n",
       "    </tr>\n",
       "    <tr>\n",
       "      <th>3</th>\n",
       "      <td>EZYV7545</td>\n",
       "      <td>Ásia</td>\n",
       "      <td>Ensino Médio</td>\n",
       "      <td>0</td>\n",
       "      <td>0</td>\n",
       "      <td>3846</td>\n",
       "      <td>1992</td>\n",
       "      <td>Meio-Oeste</td>\n",
       "      <td>91884.68</td>\n",
       "      <td>Semana</td>\n",
       "      <td>1</td>\n",
       "      <td>0</td>\n",
       "    </tr>\n",
       "    <tr>\n",
       "      <th>4</th>\n",
       "      <td>EZYV16071</td>\n",
       "      <td>Ásia</td>\n",
       "      <td>Ensino Superior</td>\n",
       "      <td>1</td>\n",
       "      <td>0</td>\n",
       "      <td>3957</td>\n",
       "      <td>1949</td>\n",
       "      <td>Nordeste</td>\n",
       "      <td>138155.24</td>\n",
       "      <td>Ano</td>\n",
       "      <td>1</td>\n",
       "      <td>1</td>\n",
       "    </tr>\n",
       "  </tbody>\n",
       "</table>\n",
       "</div>"
      ],
      "text/plain": [
       "  id_do_caso continente educacao_do_empregado  tem_experiencia_de_trabalho  \\\n",
       "0  EZYV10567     Europa          Ensino Médio                            0   \n",
       "1   EZYV5505       Ásia              Mestrado                            1   \n",
       "2   EZYV5207       Ásia          Ensino Médio                            0   \n",
       "3   EZYV7545       Ásia          Ensino Médio                            0   \n",
       "4  EZYV16071       Ásia       Ensino Superior                            1   \n",
       "\n",
       "   requer_treinamento_de_trabalho  num_de_empregados  ano_de_estabelecimento  \\\n",
       "0                               1               2087                    1855   \n",
       "1                               0               5991                    2003   \n",
       "2                               0               1426                    2000   \n",
       "3                               0               3846                    1992   \n",
       "4                               0               3957                    1949   \n",
       "\n",
       "  regiao_de_emprego  salario_prevalecente unidade_de_salario  \\\n",
       "0               Sul              69711.24                Ano   \n",
       "1        Meio-Oeste              52931.38                Ano   \n",
       "2              Ilha             110830.21                Ano   \n",
       "3        Meio-Oeste              91884.68             Semana   \n",
       "4          Nordeste             138155.24                Ano   \n",
       "\n",
       "   posicao_em_tempo_integral  status_do_caso  \n",
       "0                          1               0  \n",
       "1                          1               1  \n",
       "2                          1               0  \n",
       "3                          1               0  \n",
       "4                          1               1  "
      ]
     },
     "execution_count": 11,
     "metadata": {},
     "output_type": "execute_result"
    }
   ],
   "source": [
    "df.head()"
   ]
  },
  {
   "cell_type": "code",
   "execution_count": 9,
   "id": "8c2bbc01",
   "metadata": {},
   "outputs": [
    {
     "data": {
      "text/plain": [
       "Aprovado    0.669264\n",
       "Negado      0.330736\n",
       "Name: status_do_caso, dtype: float64"
      ]
     },
     "execution_count": 9,
     "metadata": {},
     "output_type": "execute_result"
    }
   ],
   "source": [
    "df.status_do_caso.value_counts(1)"
   ]
  },
  {
   "cell_type": "code",
   "execution_count": 41,
   "id": "6db8456a",
   "metadata": {},
   "outputs": [
    {
     "data": {
      "text/plain": [
       "id_do_caso                        0.0\n",
       "continente                        0.0\n",
       "educacao_do_empregado             0.0\n",
       "tem_experiencia_de_trabalho       0.0\n",
       "requer_treinamento_de_trabalho    0.0\n",
       "num_de_empregados                 0.0\n",
       "ano_de_estabelecimento            0.0\n",
       "regiao_de_emprego                 0.0\n",
       "salario_prevalecente              0.0\n",
       "unidade_de_salario                0.0\n",
       "posicao_em_tempo_integral         0.0\n",
       "status_do_caso                    0.0\n",
       "dtype: float64"
      ]
     },
     "execution_count": 41,
     "metadata": {},
     "output_type": "execute_result"
    }
   ],
   "source": [
    "df.isnull().mean()"
   ]
  },
  {
   "cell_type": "markdown",
   "id": "6059091f",
   "metadata": {},
   "source": [
    "## Modelagem"
   ]
  },
  {
   "cell_type": "code",
   "execution_count": 15,
   "id": "759acef1",
   "metadata": {},
   "outputs": [],
   "source": [
    "X = df.drop(columns = ['id_do_caso', 'status_do_caso'], axis = 1)\n",
    "y = df.status_do_caso"
   ]
  },
  {
   "cell_type": "code",
   "execution_count": 26,
   "id": "c3f4d708",
   "metadata": {},
   "outputs": [],
   "source": [
    "X_train, X_valid, y_train, y_valid = train_test_split(X, y, test_size = 0.2, random_state = 0, stratify = y)"
   ]
  },
  {
   "cell_type": "code",
   "execution_count": 31,
   "id": "ac23b0d8",
   "metadata": {},
   "outputs": [],
   "source": [
    "folds = StratifiedKFold(n_splits = 5, shuffle = True, random_state = 10)"
   ]
  },
  {
   "cell_type": "code",
   "execution_count": 52,
   "id": "dec37ec5",
   "metadata": {},
   "outputs": [],
   "source": [
    "cat_cols = X.select_dtypes(include = ['object']).columns\n",
    "num_cols = X.select_dtypes(exclude = ['object']).columns"
   ]
  },
  {
   "cell_type": "code",
   "execution_count": 95,
   "id": "358d6f42",
   "metadata": {},
   "outputs": [],
   "source": [
    "cat_pipe = Pipeline([('imputer', SimpleImputer(strategy = 'most_frequent')), ('encoder', TargetEncoder()), ('imputer2', SimpleImputer(strategy = 'most_frequent'))])\n",
    "num_pipe = Pipeline([('imputer', SimpleImputer(strategy = 'median'))])"
   ]
  },
  {
   "cell_type": "code",
   "execution_count": 100,
   "id": "8bb56f75",
   "metadata": {},
   "outputs": [],
   "source": [
    "def cross_validation(X, y, cat_pipe, num_pipe, modelo, threshold = 0.5):\n",
    "    f1_list = list()\n",
    "    roc_list = list()\n",
    "    for i, (index_train, index_valid) in enumerate(folds.split(X, y)):\n",
    "        print(f\"-=-=-= FOLD {i+1} -=-=-=\")\n",
    "        X_train_interno, y_train_interno = X.iloc[index_train, :], y[index_train]\n",
    "        X_valid_interno, y_valid_interno = X.iloc[index_valid, :], y[index_valid]\n",
    "        \n",
    "        # Fazer uma feature engineering\n",
    "        \n",
    "        \n",
    "        # Preprocessamento\n",
    "        X_train_interno[cat_cols] = cat_pipe.fit_transform(X_train_interno[cat_cols], y_train_interno)\n",
    "        X_valid_interno[cat_cols] = cat_pipe.transform(X_valid_interno[cat_cols])\n",
    "        \n",
    "        X_train_interno[num_cols] = num_pipe.fit_transform(X_train_interno[num_cols])\n",
    "        X_valid_interno[num_cols] = num_pipe.transform(X_valid_interno[num_cols])\n",
    "        \n",
    "        # Treinar o modelo\n",
    "        modelo.fit(X_train_interno, y_train_interno)\n",
    "        y_pred_proba = modelo.predict_proba(X_valid_interno)[:, 1]\n",
    "        y_pred = np.where(y_pred_proba > threshold, 1, 0)\n",
    "        \n",
    "        # Calcular as métricas\n",
    "        valor_f1 = f1_score(y_valid_interno, y_pred)\n",
    "        valor_roc = roc_auc_score(y_valid_interno, y_pred_proba)\n",
    "        f1_list.append(valor_f1)\n",
    "        roc_list.append(valor_roc)\n",
    "        print(f\"F1: {valor_f1:.4f}\\nROC: {valor_roc:.4f}\")\n",
    "        print('')\n",
    "    \n",
    "    # Métricas finais\n",
    "    print(f\"F1: {np.mean(f1_list)} +- {np.std(f1_list)}\")\n",
    "    print(f\"ROC: {np.mean(roc_list)} +- {np.std(roc_list)}\")"
   ]
  },
  {
   "cell_type": "code",
   "execution_count": 97,
   "id": "02d101ea",
   "metadata": {},
   "outputs": [],
   "source": [
    "modelo = RandomForestClassifier(n_estimators = 1000, n_jobs = -1, random_state = 0, class_weight = {1: 1, 0: 2.02355957621789})"
   ]
  },
  {
   "cell_type": "code",
   "execution_count": 99,
   "id": "34804946",
   "metadata": {
    "scrolled": false
   },
   "outputs": [
    {
     "name": "stdout",
     "output_type": "stream",
     "text": [
      "-=-=-= FOLD 0 -=-=-=\n",
      "F1: 0.7531\n",
      "ROC: 0.7700\n",
      "\n",
      "-=-=-= FOLD 1 -=-=-=\n",
      "F1: 0.7485\n",
      "ROC: 0.7484\n",
      "\n",
      "-=-=-= FOLD 2 -=-=-=\n",
      "F1: 0.7486\n",
      "ROC: 0.7621\n",
      "\n",
      "-=-=-= FOLD 3 -=-=-=\n",
      "F1: 0.7619\n",
      "ROC: 0.7594\n",
      "\n",
      "-=-=-= FOLD 4 -=-=-=\n",
      "F1: 0.7596\n",
      "ROC: 0.7636\n",
      "\n",
      "F1: 0.7543613098768245 +- 0.00552660330857269\n",
      "ROC: 0.760695524842631 +- 0.00709519162814482\n"
     ]
    }
   ],
   "source": [
    "cross_validation(X, y, cat_pipe, num_pipe, modelo, threshold = 0.67)"
   ]
  },
  {
   "cell_type": "markdown",
   "id": "ef390bfd",
   "metadata": {},
   "source": [
    "## Resultado para threshold = 0.5, random_forest(n_estimators = 1000)\n",
    "F1: 0.8093054599787047 +- 0.004550924906060425\n",
    "\n",
    "ROC: 0.760695524842631 +- 0.00709519162814482\n",
    "\n",
    "## Resultado para threshold = 0.67, random_forest(n_estimators = 1000)\n",
    "F1: 0.7543613098768245 +- 0.00552660330857269\n",
    "\n",
    "ROC: 0.760695524842631 +- 0.00709519162814482"
   ]
  }
 ],
 "metadata": {
  "kernelspec": {
   "display_name": "Python 3 (ipykernel)",
   "language": "python",
   "name": "python3"
  },
  "language_info": {
   "codemirror_mode": {
    "name": "ipython",
    "version": 3
   },
   "file_extension": ".py",
   "mimetype": "text/x-python",
   "name": "python",
   "nbconvert_exporter": "python",
   "pygments_lexer": "ipython3",
   "version": "3.9.12"
  }
 },
 "nbformat": 4,
 "nbformat_minor": 5
}
